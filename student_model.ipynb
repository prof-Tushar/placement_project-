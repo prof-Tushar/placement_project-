{
 "cells": [
  {
   "cell_type": "code",
   "execution_count": 6,
   "metadata": {},
   "outputs": [
    {
     "name": "stdout",
     "output_type": "stream",
     "text": [
      "numpy version: 1.26.4\n",
      "pandas version: 2.2.1\n",
      "sklearn version: 1.5.1\n",
      "All library versions are as expected. Ready to proceed!\n"
     ]
    }
   ],
   "source": [
    "# Import necessary libraries\n",
    "import pandas as pd\n",
    "from sklearn.ensemble import RandomForestClassifier\n",
    "from sklearn.model_selection import train_test_split, GridSearchCV\n",
    "from sklearn.metrics import classification_report\n",
    "import pickle\n",
    "import numpy as np\n",
    "import sklearn\n",
    "\n",
    "# Print the version of each library to ensure compatibility\n",
    "print(\"numpy version:\", np.__version__)  # Expected: 1.26.4\n",
    "print(\"pandas version:\", pd.__version__)  # Expected: 2.2.1\n",
    "print(\"sklearn version:\", sklearn.__version__)  # Expected: 1.5.1\n",
    "\n",
    "# Check if the installed versions match the expected versions\n",
    "assert np.__version__ == '1.26.4', f\"Expected numpy version 1.26.4, but got {np.__version__}\"\n",
    "assert pd.__version__ == '2.2.1', f\"Expected pandas version 2.2.1, but got {pd.__version__}\"\n",
    "assert sklearn.__version__ == '1.5.1', f\"Expected sklearn version 1.5.1, but got {sklearn.__version__}\"\n",
    "\n",
    "# Display message if all versions are correct\n",
    "print(\"All library versions are as expected. Ready to proceed!\")\n"
   ]
  },
  {
   "cell_type": "code",
   "execution_count": 2,
   "metadata": {},
   "outputs": [],
   "source": [
    "\n",
    "\n"
   ]
  },
  {
   "cell_type": "code",
   "execution_count": 7,
   "metadata": {},
   "outputs": [
    {
     "data": {
      "text/html": [
       "<div>\n",
       "<style scoped>\n",
       "    .dataframe tbody tr th:only-of-type {\n",
       "        vertical-align: middle;\n",
       "    }\n",
       "\n",
       "    .dataframe tbody tr th {\n",
       "        vertical-align: top;\n",
       "    }\n",
       "\n",
       "    .dataframe thead th {\n",
       "        text-align: right;\n",
       "    }\n",
       "</style>\n",
       "<table border=\"1\" class=\"dataframe\">\n",
       "  <thead>\n",
       "    <tr style=\"text-align: right;\">\n",
       "      <th></th>\n",
       "      <th>IQ</th>\n",
       "      <th>CGPA</th>\n",
       "      <th>10th_Marks</th>\n",
       "      <th>12th_Marks</th>\n",
       "      <th>Communication_Skills</th>\n",
       "      <th>Placed</th>\n",
       "    </tr>\n",
       "  </thead>\n",
       "  <tbody>\n",
       "    <tr>\n",
       "      <th>0</th>\n",
       "      <td>138</td>\n",
       "      <td>5.96</td>\n",
       "      <td>85</td>\n",
       "      <td>97</td>\n",
       "      <td>5.19</td>\n",
       "      <td>1</td>\n",
       "    </tr>\n",
       "    <tr>\n",
       "      <th>1</th>\n",
       "      <td>128</td>\n",
       "      <td>5.76</td>\n",
       "      <td>68</td>\n",
       "      <td>68</td>\n",
       "      <td>5.63</td>\n",
       "      <td>0</td>\n",
       "    </tr>\n",
       "    <tr>\n",
       "      <th>2</th>\n",
       "      <td>114</td>\n",
       "      <td>5.05</td>\n",
       "      <td>75</td>\n",
       "      <td>53</td>\n",
       "      <td>6.88</td>\n",
       "      <td>1</td>\n",
       "    </tr>\n",
       "    <tr>\n",
       "      <th>3</th>\n",
       "      <td>142</td>\n",
       "      <td>3.10</td>\n",
       "      <td>52</td>\n",
       "      <td>84</td>\n",
       "      <td>4.58</td>\n",
       "      <td>0</td>\n",
       "    </tr>\n",
       "    <tr>\n",
       "      <th>4</th>\n",
       "      <td>107</td>\n",
       "      <td>4.39</td>\n",
       "      <td>68</td>\n",
       "      <td>98</td>\n",
       "      <td>3.61</td>\n",
       "      <td>0</td>\n",
       "    </tr>\n",
       "  </tbody>\n",
       "</table>\n",
       "</div>"
      ],
      "text/plain": [
       "    IQ  CGPA  10th_Marks  12th_Marks  Communication_Skills  Placed\n",
       "0  138  5.96          85          97                  5.19       1\n",
       "1  128  5.76          68          68                  5.63       0\n",
       "2  114  5.05          75          53                  6.88       1\n",
       "3  142  3.10          52          84                  4.58       0\n",
       "4  107  4.39          68          98                  3.61       0"
      ]
     },
     "execution_count": 7,
     "metadata": {},
     "output_type": "execute_result"
    }
   ],
   "source": [
    "#Load the data \n",
    "data=pd.read_csv(f'student_placement_data.csv')\n",
    "data.head()"
   ]
  },
  {
   "cell_type": "code",
   "execution_count": 8,
   "metadata": {},
   "outputs": [],
   "source": [
    "#Split the data into features and target variable \n",
    "x = data.drop('Placed', axis=1)\n",
    "\n",
    "y = data['Placed']\n",
    "\n",
    "#Split the data into training and testing sets\n",
    "\n",
    "x_train, x_test, y_train, y_test = train_test_split(x, y, test_size=0.2, random_state=42)\n",
    "\n",
    " # Define the parameter grid for hyperparameter tuning\n",
    "\n",
    "param_grid = {\n",
    "\n",
    "'n_estimators': [100, 200, 300],\n",
    "\n",
    "'max_depth': [None, 10, 20, 30],\n",
    "\n",
    "'min_samples_split': [2, 5, 10],\n",
    "\n",
    "'min_samples_leaf':[1,2,4]\n",
    "}"
   ]
  },
  {
   "cell_type": "code",
   "execution_count": 9,
   "metadata": {},
   "outputs": [
    {
     "name": "stdout",
     "output_type": "stream",
     "text": [
      "Fitting 5 folds for each of 108 candidates, totalling 540 fits\n",
      "              precision    recall  f1-score   support\n",
      "\n",
      "           0       0.56      0.69      0.62        13\n",
      "           1       0.00      0.00      0.00         7\n",
      "\n",
      "    accuracy                           0.45        20\n",
      "   macro avg       0.28      0.35      0.31        20\n",
      "weighted avg       0.37      0.45      0.40        20\n",
      "\n"
     ]
    }
   ],
   "source": [
    "#Create a Random Forest classifier\n",
    "\n",
    "\n",
    "rf = RandomForestClassifier(random_state=42)\n",
    "\n",
    "#Perform grid search with cross-validation\n",
    "\n",
    "grid_search = GridSearchCV(estimator=rf, param_grid=param_grid, cv=5, n_jobs=-1, verbose=2)\n",
    "\n",
    "grid_search.fit(x_train, y_train) \n",
    "\n",
    "#Get the best model\n",
    "\n",
    "best_rf = grid_search.best_estimator_\n",
    "\n",
    "#Fitting 5 folds for each of 108 candidates, totalling 540 fits\n",
    "\n",
    "#Evaluate the model on the test set\n",
    "\n",
    "y_pred = best_rf.predict(x_test)\n",
    "\n",
    "print(classification_report(y_test,y_pred))"
   ]
  },
  {
   "cell_type": "markdown",
   "metadata": {},
   "source": []
  },
  {
   "cell_type": "code",
   "execution_count": 10,
   "metadata": {},
   "outputs": [],
   "source": [
    "with open('model.pkl','wb') as file:\n",
    "    pickle.dump(best_rf, file)"
   ]
  },
  {
   "cell_type": "code",
   "execution_count": null,
   "metadata": {},
   "outputs": [],
   "source": []
  },
  {
   "cell_type": "code",
   "execution_count": null,
   "metadata": {},
   "outputs": [],
   "source": []
  }
 ],
 "metadata": {
  "kernelspec": {
   "display_name": "Python 3",
   "language": "python",
   "name": "python3"
  },
  "language_info": {
   "codemirror_mode": {
    "name": "ipython",
    "version": 3
   },
   "file_extension": ".py",
   "mimetype": "text/x-python",
   "name": "python",
   "nbconvert_exporter": "python",
   "pygments_lexer": "ipython3",
   "version": "3.12.1"
  }
 },
 "nbformat": 4,
 "nbformat_minor": 2
}
